{
 "cells": [
  {
   "cell_type": "code",
   "execution_count": 1,
   "metadata": {},
   "outputs": [],
   "source": [
    "#function Creation\n"
   ]
  },
  {
   "cell_type": "code",
   "execution_count": 3,
   "metadata": {},
   "outputs": [
    {
     "name": "stdout",
     "output_type": "stream",
     "text": [
      "7\n",
      "Hello World this is Ravi kiran 7\n"
     ]
    }
   ],
   "source": [
    "def ravi(num):  # function creation\n",
    "    c = 5;\n",
    "    c  =c +num;\n",
    "    #print(c)\n",
    "    print(\"Hello World this is Ravi kiran\",c)\n",
    "ravi(2)#function calling"
   ]
  },
  {
   "cell_type": "code",
   "execution_count": 6,
   "metadata": {},
   "outputs": [],
   "source": [
    "# write a function to check if the number is divided by two\n",
    "def number(a):\n",
    "    if (a % 2)== 0:\n",
    "        print(\"The Number is Even\");\n",
    "    else:\n",
    "        print(\"The Number is Odd\");"
   ]
  },
  {
   "cell_type": "code",
   "execution_count": 7,
   "metadata": {},
   "outputs": [
    {
     "name": "stdout",
     "output_type": "stream",
     "text": [
      "The Number is Odd\n"
     ]
    }
   ],
   "source": [
    "number(45)"
   ]
  },
  {
   "cell_type": "code",
   "execution_count": 8,
   "metadata": {},
   "outputs": [
    {
     "name": "stdout",
     "output_type": "stream",
     "text": [
      "The Number is Even\n"
     ]
    }
   ],
   "source": [
    "number(22)"
   ]
  },
  {
   "cell_type": "code",
   "execution_count": 9,
   "metadata": {},
   "outputs": [],
   "source": [
    "# write a function to convert btc into usd conis;\n",
    "def coin_converter(btc):\n",
    "    btc =int(input(\"Enter Btc is ammount\"));\n",
    "    btc = btc * 524.8\n",
    "    print(\"The number of USD is:\", btc )"
   ]
  },
  {
   "cell_type": "code",
   "execution_count": 10,
   "metadata": {},
   "outputs": [
    {
     "name": "stdout",
     "output_type": "stream",
     "text": [
      "Enter Btc is ammount89\n",
      "The number of USD is: 46707.2\n"
     ]
    }
   ],
   "source": [
    "coin_converter(451)"
   ]
  },
  {
   "cell_type": "code",
   "execution_count": null,
   "metadata": {},
   "outputs": [],
   "source": []
  }
 ],
 "metadata": {
  "kernelspec": {
   "display_name": "Python 3",
   "language": "python",
   "name": "python3"
  },
  "language_info": {
   "codemirror_mode": {
    "name": "ipython",
    "version": 3
   },
   "file_extension": ".py",
   "mimetype": "text/x-python",
   "name": "python",
   "nbconvert_exporter": "python",
   "pygments_lexer": "ipython3",
   "version": "3.8.5"
  }
 },
 "nbformat": 4,
 "nbformat_minor": 4
}
